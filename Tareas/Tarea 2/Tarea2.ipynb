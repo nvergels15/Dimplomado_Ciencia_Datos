{
 "cells": [
  {
   "cell_type": "markdown",
   "id": "d8bc1acd",
   "metadata": {},
   "source": [
    "<table width='100%'>\n",
    "<tr>\n",
    "<td style='background-color:white'>\n",
    "    <p align=\"left\">\n",
    "    Departamento de estadística<br>\n",
    "        <b>Inteligencia Artificial</b><br>\n",
    "    Semestre 2023-I\n",
    "    </p>\n",
    "</td>\n",
    "    <td style='background-color:white'> \n",
    "        <p align=\"right\">\n",
    "        <img src=\"logo.jpg\" width=\"200\"> \n",
    "    </td>\n",
    "</tr>\n",
    "</table>\n",
    "\n",
    "<br>\n",
    "<center>\n",
    "    <h1>Tarea 2: Funciones</h1>\n",
    "</center>\n",
    "<br>"
   ]
  },
  {
   "cell_type": "markdown",
   "id": "53a0aaf4",
   "metadata": {},
   "source": [
    "**Función 1**: Escribe una función  que reciba la fecha de nacimiento de un a persona y calcule la edad de la persona."
   ]
  },
  {
   "cell_type": "code",
   "execution_count": 1,
   "id": "9b0410dc",
   "metadata": {},
   "outputs": [],
   "source": [
    "from datetime import date, timedelta\n",
    "\n",
    "def calcular_edad(fecha_nacimiento):\n",
    "    return (date.today() - fecha_nacimiento) // timedelta(days=365.2425)"
   ]
  },
  {
   "cell_type": "code",
   "execution_count": 2,
   "id": "19e9a0a3",
   "metadata": {},
   "outputs": [
    {
     "name": "stdout",
     "output_type": "stream",
     "text": [
      "Su edad es 38 años\n"
     ]
    }
   ],
   "source": [
    "my_birthday = date(1984, 7, 21)\n",
    "print(\"Su edad es\", calcular_edad(my_birthday), \"años\")"
   ]
  },
  {
   "cell_type": "markdown",
   "id": "7bd8e90a",
   "metadata": {},
   "source": [
    "Drawbacks: Años bisiestos."
   ]
  },
  {
   "cell_type": "markdown",
   "id": "06879e72",
   "metadata": {},
   "source": [
    "**Función 2**: Crea una función EscribirCentrado, que reciba como parámetro un texto y lo escriba centrado en pantalla (suponiendo una anchura de 80 columnas; pista: deberás escribir 40 - longitud/2 espacios antes del texto).  "
   ]
  },
  {
   "cell_type": "code",
   "execution_count": 3,
   "id": "4a1b86cc",
   "metadata": {},
   "outputs": [],
   "source": [
    "def EscribirCentrado(texto):\n",
    "    longitud = len(texto)\n",
    "    if longitud <= 80:\n",
    "        espacios = 40 - longitud//2\n",
    "        blank = \" \"\n",
    "        print(blank*espacios + texto + blank*espacios)"
   ]
  },
  {
   "cell_type": "code",
   "execution_count": 4,
   "id": "03f00220",
   "metadata": {},
   "outputs": [
    {
     "name": "stdout",
     "output_type": "stream",
     "text": [
      "               Cuando despertó, el dinosaurio todavía estaba ahí.               \n",
      "  A diferencia de otros antes y ahora, jamás desobedezco un semáforo con motos  \n"
     ]
    }
   ],
   "source": [
    "EscribirCentrado('Cuando despertó, el dinosaurio todavía estaba ahí.')\n",
    "EscribirCentrado('A diferencia de otros antes y ahora, jamás desobedezco un semáforo con motos')"
   ]
  },
  {
   "cell_type": "markdown",
   "id": "8bf417a1",
   "metadata": {},
   "source": [
    "Drawbacks: Textos multilínea."
   ]
  },
  {
   "cell_type": "markdown",
   "id": "f6360608",
   "metadata": {},
   "source": [
    "**Función 3**: Construye una función decorada que reciba un texto y lo escriba marcado con Markdown en itálica y resaltada (bold). Revise la lección de decoradores, no vista en clase."
   ]
  },
  {
   "cell_type": "code",
   "execution_count": 5,
   "id": "52c3b6af",
   "metadata": {},
   "outputs": [],
   "source": [
    "from IPython.display import Markdown, display\n",
    "def printmd(string):\n",
    "    display(Markdown(string))\n",
    "\n",
    "def escribirEnNegrilla(texto):\n",
    "    return '**_' + texto + '_**'\n",
    "\n",
    "def decorador_bold_italic(function):\n",
    "    def wrapper(texto):\n",
    "        func = function(texto)\n",
    "        texto_bold_italic = escribirEnNegrilla(func)\n",
    "        printmd(texto_bold_italic)\n",
    "    \n",
    "    return wrapper"
   ]
  },
  {
   "cell_type": "code",
   "execution_count": 6,
   "id": "7e4d9905",
   "metadata": {},
   "outputs": [
    {
     "data": {
      "text/markdown": [
       "**_Este es un texto impreso en negrilla e itálicas gracias a un decorador._**"
      ],
      "text/plain": [
       "<IPython.core.display.Markdown object>"
      ]
     },
     "metadata": {},
     "output_type": "display_data"
    }
   ],
   "source": [
    "@decorador_bold_italic\n",
    "def imprimir_texto(texto):\n",
    "    return texto\n",
    "\n",
    "imprimir_texto(\"Este es un texto impreso en negrilla e itálicas gracias a un decorador.\")"
   ]
  },
  {
   "cell_type": "markdown",
   "id": "f10efbc4",
   "metadata": {},
   "source": [
    "**Función 4**: Crea un programa que pida dos número enteros al usuario y diga si alguno de ellos es múltiplo del otro. "
   ]
  },
  {
   "cell_type": "code",
   "execution_count": 7,
   "id": "b74459cb",
   "metadata": {},
   "outputs": [],
   "source": [
    "def multiplos(x, y):\n",
    "    a = max(x,y)\n",
    "    b = min(x,y)\n",
    "    \n",
    "    if a%b == 0:  # Módulo\n",
    "        print(a, \"es un múltiplo de\", b)\n",
    "    else:\n",
    "        print(a, \"no es múltiplo de\", b)"
   ]
  },
  {
   "cell_type": "code",
   "execution_count": 8,
   "id": "a62f5d09",
   "metadata": {},
   "outputs": [
    {
     "name": "stdout",
     "output_type": "stream",
     "text": [
      "18 es un múltiplo de 2\n",
      "7 no es múltiplo de 3\n"
     ]
    }
   ],
   "source": [
    "multiplos(18, 2)\n",
    "multiplos(3, 7)"
   ]
  },
  {
   "cell_type": "markdown",
   "id": "88a9e5f8",
   "metadata": {},
   "source": [
    "**Función 5:** Crea un función “ConvertirEspaciado”, que reciba como parámetro un texto y devuelve una cadena con un espacio adicional tras cada letra. Por ejemplo, “Hola, tú” devolverá “H o l a , t ú “.  Pruebe "
   ]
  },
  {
   "cell_type": "code",
   "execution_count": 9,
   "id": "cfe73577",
   "metadata": {},
   "outputs": [],
   "source": [
    "def ConvertirEspaciado(texto):\n",
    "    print(\" \".join(texto))"
   ]
  },
  {
   "cell_type": "code",
   "execution_count": 10,
   "id": "92a2a004",
   "metadata": {},
   "outputs": [
    {
     "name": "stdout",
     "output_type": "stream",
     "text": [
      "E s t e   e s   u n   t e x t o   c o n   m u c h o   a i r e .\n"
     ]
    }
   ],
   "source": [
    "ConvertirEspaciado(\"Este es un texto con mucho aire.\")"
   ]
  },
  {
   "cell_type": "markdown",
   "id": "e3edcfaa",
   "metadata": {},
   "source": [
    "**Función 6:** Crea una función “calcularMaxMin” que recibe una arreglo con valores numérico y devuelve el valor máximo y el mínimo. "
   ]
  },
  {
   "cell_type": "code",
   "execution_count": 11,
   "id": "7741b306",
   "metadata": {},
   "outputs": [
    {
     "name": "stdout",
     "output_type": "stream",
     "text": [
      "Máximo: 9 \n",
      "Mínimo: 1.5\n"
     ]
    }
   ],
   "source": [
    "def calcularMaxMin(arreglo):\n",
    "    return print(\"Máximo:\", max(arreglo),\"\\nMínimo:\", min(arreglo))\n",
    "\n",
    "calcularMaxMin([3,4, 2, 1.5, 6.7, 9])"
   ]
  },
  {
   "cell_type": "markdown",
   "id": "55bffc32",
   "metadata": {},
   "source": [
    "**Función 7:** Diseñar una función que calcule el área y el perímetro de una circunferencia. "
   ]
  },
  {
   "cell_type": "code",
   "execution_count": 12,
   "id": "fef5e105",
   "metadata": {},
   "outputs": [
    {
     "name": "stdout",
     "output_type": "stream",
     "text": [
      "Área: 50.27 cm2\n",
      "Perímetro: 25.13 cm\n"
     ]
    }
   ],
   "source": [
    "import numpy as np\n",
    "\n",
    "def medidasCircunferencia(radio):\n",
    "    return print(\"Área: {} cm2\\nPerímetro: {} cm\".format(round(np.pi*(radio**2),2), round(2*np.pi*radio,2)))\n",
    "\n",
    "# Ejemplo (radio en centímetros)\n",
    "medidasCircunferencia(4)"
   ]
  },
  {
   "cell_type": "markdown",
   "id": "37873144",
   "metadata": {},
   "source": [
    "**Función 8:** Crear una función  llamada “Login”, que recibe un nombre de usuario y una contraseña y devuelva Verdadero si el nombre de usuario es “usuario1” y la contraseña es “asdasd”. Además recibe el número de intentos que se ha intentado hacer login y si no se ha podido hacer login incremente este valor."
   ]
  },
  {
   "cell_type": "code",
   "execution_count": 13,
   "id": "88ec0a03",
   "metadata": {},
   "outputs": [
    {
     "name": "stdout",
     "output_type": "stream",
     "text": [
      "Tras 3 intentos, el loging ha sido exitoso.\n",
      "El login no fue posible. 4 intentos fallidos.\n"
     ]
    }
   ],
   "source": [
    "def login(usuario, contraseña, num_intentos):\n",
    "    if (usuario == 'usuario1') & (contraseña == 'asdasd'):\n",
    "        print(\"Tras {} intentos, el loging ha sido exitoso.\".format(num_intentos))\n",
    "    else:\n",
    "        print(\"El login no fue posible. {} intentos fallidos.\".format(num_intentos + 1))\n",
    "\n",
    "# Ejemplo\n",
    "login(\"usuario1\", \"asdasd\",3)\n",
    "login(\"usuario25\", \"lulu25\",3)"
   ]
  },
  {
   "cell_type": "markdown",
   "id": "f4d21a83",
   "metadata": {},
   "source": [
    "**Función 9**: Crear una función recursiva que permita calcular el factorial de un número. Realiza un programa principal donde se lea un entero y se muestre el resultado del factorial. Revise la lección de funciones."
   ]
  },
  {
   "cell_type": "code",
   "execution_count": 14,
   "id": "c7f82023",
   "metadata": {},
   "outputs": [
    {
     "name": "stdout",
     "output_type": "stream",
     "text": [
      "6\n",
      "1\n"
     ]
    }
   ],
   "source": [
    "def factorial(entero):\n",
    "    if entero == 0:\n",
    "        return 1\n",
    "    return entero * factorial(entero-1)\n",
    "\n",
    "# Ejemplo\n",
    "print(factorial(3))\n",
    "print(factorial(0))"
   ]
  },
  {
   "cell_type": "markdown",
   "id": "4b521b1b",
   "metadata": {},
   "source": [
    "**Función 10:** Escribir dos funciones que permitan calcular:\n",
    "- La cantidad de segundos en un tiempo dado en horas, minutos y segundos.\n",
    "- La cantidad de horas, minutos y segundos de un tiempo dado en segundos."
   ]
  },
  {
   "cell_type": "code",
   "execution_count": 15,
   "id": "5060f23e",
   "metadata": {},
   "outputs": [
    {
     "name": "stdout",
     "output_type": "stream",
     "text": [
      "3 horas 20 minutos 10 segundos equivalen a 12010 segundos\n",
      "7322 segundos equivalen a 2 horas 2 minutos 2 segundos \n"
     ]
    }
   ],
   "source": [
    "def num_segundos(horas, minutos, segundos):\n",
    "    num_seg = horas*3600 + minutos*60 + segundos\n",
    "    print(\"{} horas {} minutos {} segundos equivalen a {} segundos\".format(horas, minutos, segundos, num_seg))\n",
    "\n",
    "def num_horas(segundos_input):\n",
    "    horas = segundos_input//3600\n",
    "    minutos = (segundos_input - horas*3600)//60\n",
    "    segundos = segundos_input - horas*3600 - minutos*60\n",
    "    \n",
    "    print(\"{} segundos equivalen a {} horas {} minutos {} segundos \".format(segundos_input, horas, minutos, segundos))\n",
    "\n",
    "# Ejemplo\n",
    "num_segundos(3,20,10)\n",
    "num_horas(3661*2)"
   ]
  },
  {
   "cell_type": "markdown",
   "id": "eaf28e71",
   "metadata": {},
   "source": [
    "**Función 11:** Crea una función  que lea una tupla, invierta los valores de la tupla y regrese una nueva tupla invirtiendo los valores. Recuerde que las tuplas son inmutables."
   ]
  },
  {
   "cell_type": "code",
   "execution_count": 16,
   "id": "7b89541a",
   "metadata": {},
   "outputs": [
    {
     "data": {
      "text/plain": [
       "(4, 3, 2, 1)"
      ]
     },
     "execution_count": 16,
     "metadata": {},
     "output_type": "execute_result"
    }
   ],
   "source": [
    "def invertirTupla(tupla):\n",
    "    return tupla[::-1]\n",
    "\n",
    "a = (1,2,3,4)\n",
    "invertirTupla(a)"
   ]
  },
  {
   "cell_type": "markdown",
   "id": "2de12724",
   "metadata": {},
   "source": [
    "**Función 12:** Escriba una función que lea una lista y calcule la media geométrica de sus valores, usando <code>funtools.reduce</code>."
   ]
  },
  {
   "cell_type": "code",
   "execution_count": 17,
   "id": "3ba3cb74",
   "metadata": {},
   "outputs": [
    {
     "data": {
      "text/plain": [
       "2.0"
      ]
     },
     "execution_count": 17,
     "metadata": {},
     "output_type": "execute_result"
    }
   ],
   "source": [
    "from functools import reduce\n",
    "\n",
    "def calcularMediaGeometrica(lista):\n",
    "    producto = reduce(lambda x, y: x*y, lista)\n",
    "    return producto**(1/len(lista))\n",
    "\n",
    "calcularMediaGeometrica([1, 4])"
   ]
  }
 ],
 "metadata": {
  "kernelspec": {
   "display_name": "Python 3 (ipykernel)",
   "language": "python",
   "name": "python3"
  },
  "language_info": {
   "codemirror_mode": {
    "name": "ipython",
    "version": 3
   },
   "file_extension": ".py",
   "mimetype": "text/x-python",
   "name": "python",
   "nbconvert_exporter": "python",
   "pygments_lexer": "ipython3",
   "version": "3.9.7"
  }
 },
 "nbformat": 4,
 "nbformat_minor": 5
}
