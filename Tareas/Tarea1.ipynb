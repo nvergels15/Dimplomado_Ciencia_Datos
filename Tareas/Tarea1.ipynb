{
 "cells": [
  {
   "cell_type": "markdown",
   "id": "d937c87e",
   "metadata": {},
   "source": [
    "<table width='100%'>\n",
    "<tr>\n",
    "<td style='background-color:white'>\n",
    "    <p align=\"left\">\n",
    "    Departamento de estadística<br>\n",
    "        <b>Inteligencia Artificial</b><br>\n",
    "    Semestre 2023-I\n",
    "    </p>\n",
    "</td>\n",
    "    <td style='background-color:white'> \n",
    "        <p align=\"right\">\n",
    "        <img src=\"logo.jpg\" width=\"200\"> \n",
    "    </td>\n",
    "</tr>\n",
    "</table>\n",
    "\n",
    "<br>\n",
    "<center>\n",
    "    <h1>Análisis de la correlación canónica (CCA)</h1>\n",
    "</center>\n",
    "<br>"
   ]
  },
  {
   "cell_type": "markdown",
   "id": "7ed0a5f3",
   "metadata": {},
   "source": [
    "## Definición\n",
    "\n",
    "El **análisis de la correlación canónica** (CCA, por sus siglas en inglés) es método de análisis multivariado desarrollado por Hotelling. Su objetivo es buscar la correlación entre dos grupos de variables, denominadas modalidades.\n",
    "\n",
    "El propósito de este método es encontrar una proyección univariada de cada modalidad de tal forma que la correlación cruzada se maximice. Así, queremos maximizar la functión objetivo\n",
    "\n",
    "$$J(w_x,w_y) =  w_x^\\top C_{xy} w_y$$\n",
    "\n",
    "sujeto a la restricción de que $w_x^\\top C_{xx} w_x = 1$ y $w_y^\\top C_{yy} w_y = 1$. Usando el método de los multiplicadores de Lagrange, este problema se reduce a encontrar el primer vector propio del problema de valores propio generalizado (_generalized eigenvalue problem_):\n",
    "\n",
    "$$\n",
    "\\begin{bmatrix}0 & C_{xy}\\\\C_{yx} & 0\\end{bmatrix}\n",
    "\\begin{bmatrix}w_x\\\\w_y\\end{bmatrix} =\n",
    "\\lambda\n",
    "\\begin{bmatrix}C_{xx} & 0\\\\0 & C_{yy}\\end{bmatrix}\n",
    "\\begin{bmatrix}w_x\\\\w_y\\end{bmatrix} \n",
    "$$"
   ]
  },
  {
   "cell_type": "markdown",
   "id": "ca82cc1e",
   "metadata": {},
   "source": [
    "## Ejemplo"
   ]
  },
  {
   "cell_type": "markdown",
   "id": "d8f10e5c",
   "metadata": {},
   "source": [
    "Considere que queremos estudiar la correlación entre las características anatómicas de un pingüino y algunos atributos sobre su pico. Los datos a utilizar pueden ser consultados [aquí](https://raw.githubusercontent.com/mwaskom/seaborn-data/master/penguins.csv)."
   ]
  },
  {
   "cell_type": "code",
   "execution_count": 40,
   "id": "5c7c6914",
   "metadata": {},
   "outputs": [
    {
     "data": {
      "text/html": [
       "<div>\n",
       "<style scoped>\n",
       "    .dataframe tbody tr th:only-of-type {\n",
       "        vertical-align: middle;\n",
       "    }\n",
       "\n",
       "    .dataframe tbody tr th {\n",
       "        vertical-align: top;\n",
       "    }\n",
       "\n",
       "    .dataframe thead th {\n",
       "        text-align: right;\n",
       "    }\n",
       "</style>\n",
       "<table border=\"1\" class=\"dataframe\">\n",
       "  <thead>\n",
       "    <tr style=\"text-align: right;\">\n",
       "      <th></th>\n",
       "      <th>species</th>\n",
       "      <th>island</th>\n",
       "      <th>bill_length_mm</th>\n",
       "      <th>bill_depth_mm</th>\n",
       "      <th>flipper_length_mm</th>\n",
       "      <th>body_mass_g</th>\n",
       "      <th>sex</th>\n",
       "    </tr>\n",
       "  </thead>\n",
       "  <tbody>\n",
       "    <tr>\n",
       "      <th>0</th>\n",
       "      <td>Adelie</td>\n",
       "      <td>Torgersen</td>\n",
       "      <td>39.1</td>\n",
       "      <td>18.7</td>\n",
       "      <td>181.0</td>\n",
       "      <td>3750.0</td>\n",
       "      <td>MALE</td>\n",
       "    </tr>\n",
       "    <tr>\n",
       "      <th>1</th>\n",
       "      <td>Adelie</td>\n",
       "      <td>Torgersen</td>\n",
       "      <td>39.5</td>\n",
       "      <td>17.4</td>\n",
       "      <td>186.0</td>\n",
       "      <td>3800.0</td>\n",
       "      <td>FEMALE</td>\n",
       "    </tr>\n",
       "    <tr>\n",
       "      <th>2</th>\n",
       "      <td>Adelie</td>\n",
       "      <td>Torgersen</td>\n",
       "      <td>40.3</td>\n",
       "      <td>18.0</td>\n",
       "      <td>195.0</td>\n",
       "      <td>3250.0</td>\n",
       "      <td>FEMALE</td>\n",
       "    </tr>\n",
       "    <tr>\n",
       "      <th>4</th>\n",
       "      <td>Adelie</td>\n",
       "      <td>Torgersen</td>\n",
       "      <td>36.7</td>\n",
       "      <td>19.3</td>\n",
       "      <td>193.0</td>\n",
       "      <td>3450.0</td>\n",
       "      <td>FEMALE</td>\n",
       "    </tr>\n",
       "    <tr>\n",
       "      <th>5</th>\n",
       "      <td>Adelie</td>\n",
       "      <td>Torgersen</td>\n",
       "      <td>39.3</td>\n",
       "      <td>20.6</td>\n",
       "      <td>190.0</td>\n",
       "      <td>3650.0</td>\n",
       "      <td>MALE</td>\n",
       "    </tr>\n",
       "  </tbody>\n",
       "</table>\n",
       "</div>"
      ],
      "text/plain": [
       "  species     island  bill_length_mm  bill_depth_mm  flipper_length_mm  \\\n",
       "0  Adelie  Torgersen            39.1           18.7              181.0   \n",
       "1  Adelie  Torgersen            39.5           17.4              186.0   \n",
       "2  Adelie  Torgersen            40.3           18.0              195.0   \n",
       "4  Adelie  Torgersen            36.7           19.3              193.0   \n",
       "5  Adelie  Torgersen            39.3           20.6              190.0   \n",
       "\n",
       "   body_mass_g     sex  \n",
       "0       3750.0    MALE  \n",
       "1       3800.0  FEMALE  \n",
       "2       3250.0  FEMALE  \n",
       "4       3450.0  FEMALE  \n",
       "5       3650.0    MALE  "
      ]
     },
     "execution_count": 40,
     "metadata": {},
     "output_type": "execute_result"
    }
   ],
   "source": [
    "import pandas as pd\n",
    "import matplotlib.pyplot as plt\n",
    "import seaborn as sns\n",
    "import numpy as np\n",
    "from scipy.linalg import eigh\n",
    "\n",
    "link2data = \"https://raw.githubusercontent.com/mwaskom/seaborn-data/master/penguins.csv\"\n",
    "df = pd.read_csv(link2data)\n",
    "df = df.dropna()\n",
    "df.head()"
   ]
  },
  {
   "cell_type": "markdown",
   "id": "3853d418",
   "metadata": {},
   "source": [
    "Así, definimos ambas modalidades:"
   ]
  },
  {
   "cell_type": "code",
   "execution_count": 41,
   "id": "b37a1d2b",
   "metadata": {},
   "outputs": [],
   "source": [
    "X = np.array(df[['bill_length_mm','bill_depth_mm']]).T\n",
    "Y = np.array(df[['flipper_length_mm','body_mass_g']]).T"
   ]
  },
  {
   "cell_type": "code",
   "execution_count": 53,
   "id": "ec0b51ce",
   "metadata": {},
   "outputs": [],
   "source": [
    "def CCA(X,Y):\n",
    "    d,N = X.shape\n",
    "    \n",
    "    # Centrar observaciones\n",
    "    Xc = X-X.mean(axis=1,keepdims=True)\n",
    "    Yc = Y-Y.mean(axis=1,keepdims=True)\n",
    "    \n",
    "    # Matrices de covarianza\n",
    "    Cxx = np.dot(Xc,Xc.T) / N\n",
    "    Cxy = np.dot(Xc,Yc.T) / N\n",
    "    Cyx = np.dot(Yc,Xc.T) / N\n",
    "    Cyy = np.dot(Yc,Yc.T) / N\n",
    "    \n",
    "    # Matrices para problema generalizado\n",
    "    S = np.block([\n",
    "        [Cxx*0,Cxy],\n",
    "        [Cyx,Cyy*0]\n",
    "    ])\n",
    "    D = np.block([\n",
    "        [Cxx,Cxy*0],\n",
    "        [Cyx*0,Cyy]\n",
    "    ])\n",
    "    \n",
    "    # Resultado\n",
    "    eigvals,eigvecs = eigh(S, D)\n",
    "    ind = np.argmax(eigvals)\n",
    "    eigval = eigvals[ind]\n",
    "    eigvec = eigvecs[:,ind]\n",
    "    wx = eigvec[:d]\n",
    "    wy = eigvec[d:]\n",
    "    return wx,wy, eigval\n",
    "\n",
    "wx, wy, corr = CCA(X,Y)"
   ]
  },
  {
   "cell_type": "markdown",
   "id": "1a3f19ab",
   "metadata": {},
   "source": [
    "Las nuevas variables canónicas están determinadas por $w_x$ y $w_y$. Su correlación está dada por $\\lambda$."
   ]
  },
  {
   "cell_type": "code",
   "execution_count": 58,
   "id": "b98878ec",
   "metadata": {},
   "outputs": [
    {
     "name": "stdout",
     "output_type": "stream",
     "text": [
      "El coeficiente de correlación de Pearson entre las dos variables canónicas es 0.79\n"
     ]
    }
   ],
   "source": [
    "print(\"El coeficiente de correlación de Pearson entre las dos variables canónicas es\", round(corr,2))"
   ]
  },
  {
   "cell_type": "markdown",
   "id": "2811ad5a",
   "metadata": {},
   "source": [
    "<table width='100%'  class=\"mytable\">\n",
    "<tr>\n",
    "<td style='background-color:white' width=\"50%\">\n",
    "    <p align=\"left\">\n",
    "        <b>Sobre la autora</b><br><br>\n",
    "     Soy estudiante de estadística y entusiasta por la inteligencia artificial. Desde hace algunos semestres me interesa el área de <i>human-centered data science</i> y me he formado en técnicas de aprendizaje de máquinas, así como modelamiento estadístico.\n",
    "        Durante 2021 y 2022 trabajé como estudiante auxiliar en el proyecto MisiónTIC2022 generando informes estadísticos que permitieran predecir y prevenir la deserción estudiantil en el programa.\n",
    "    </p>\n",
    "</td>\n",
    "    <td style='background-color:white' width=\"30%\"> \n",
    "        <p align=\"right\">\n",
    "        <img src=\"foto.jpg\" width=\"200\"> \n",
    "    </td>\n",
    "</tr>\n",
    "</table>"
   ]
  }
 ],
 "metadata": {
  "kernelspec": {
   "display_name": "Python 3 (ipykernel)",
   "language": "python",
   "name": "python3"
  },
  "language_info": {
   "codemirror_mode": {
    "name": "ipython",
    "version": 3
   },
   "file_extension": ".py",
   "mimetype": "text/x-python",
   "name": "python",
   "nbconvert_exporter": "python",
   "pygments_lexer": "ipython3",
   "version": "3.9.7"
  }
 },
 "nbformat": 4,
 "nbformat_minor": 5
}
