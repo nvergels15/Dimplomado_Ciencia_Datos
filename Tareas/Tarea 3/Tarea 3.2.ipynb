{
 "cells": [
  {
   "cell_type": "markdown",
   "id": "bbdea218",
   "metadata": {},
   "source": [
    "<table width='100%'>\n",
    "<tr>\n",
    "<td style='background-color:white'>\n",
    "    <p align=\"left\">\n",
    "    Departamento de estadística<br>\n",
    "        <b>Inteligencia Artificial</b><br>\n",
    "    Semestre 2023-I\n",
    "    </p>\n",
    "</td>\n",
    "    <td style='background-color:white'> \n",
    "        <p align=\"right\">\n",
    "        <img src=\"logo.jpg\" width=\"200\"> \n",
    "    </td>\n",
    "</tr>\n",
    "</table>\n",
    "\n",
    "<br>\n",
    "<center>\n",
    "    <h1>Tarea 3: Programación orientada a objetos</h1>\n",
    "    <h2>Segunda clase</h2>\n",
    "</center>\n",
    "<br>\n",
    "\n",
    "Escriba una clase con las siguientes funcionalidades:\n",
    "* Al instanciar un objeto, lee un conjunto de datos numéricos. Por ejemplo puede usar el mismo conjunto de datos iris.csv. Instancie los datos en un dataframe de Pandas\n",
    "* Implemente un método que calcule las estadísticas descriptivas básicas de cada una de las variables.\n",
    "* Implemente un método que entregue los nombre de las variables disponibles.\n",
    "* Implemente un método que reciba el nombre de una variable disponible dentro del objeto ( en el  dataframe) y regrese: sus estadísticas básicas:  media, mediana, desviación, percentiles q25, q50, q75 y dibuje un histograma de la distribución de la variable."
   ]
  }
 ],
 "metadata": {
  "kernelspec": {
   "display_name": "Python 3 (ipykernel)",
   "language": "python",
   "name": "python3"
  },
  "language_info": {
   "codemirror_mode": {
    "name": "ipython",
    "version": 3
   },
   "file_extension": ".py",
   "mimetype": "text/x-python",
   "name": "python",
   "nbconvert_exporter": "python",
   "pygments_lexer": "ipython3",
   "version": "3.9.7"
  }
 },
 "nbformat": 4,
 "nbformat_minor": 5
}
