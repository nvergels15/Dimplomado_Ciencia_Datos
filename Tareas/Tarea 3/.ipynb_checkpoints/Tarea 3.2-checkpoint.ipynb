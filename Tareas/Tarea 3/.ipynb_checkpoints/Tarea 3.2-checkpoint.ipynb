{
 "cells": [
  {
   "cell_type": "markdown",
   "id": "16210113",
   "metadata": {},
   "source": [
    "<table width='100%'>\n",
    "<tr>\n",
    "<td style='background-color:white'>\n",
    "    <p align=\"left\">\n",
    "    Departamento de estadística<br>\n",
    "        <b>Inteligencia Artificial</b><br>\n",
    "    Semestre 2023-I\n",
    "    </p>\n",
    "</td>\n",
    "    <td style='background-color:white'> \n",
    "        <p align=\"right\">\n",
    "        <img src=\"logo.jpg\" width=\"200\"> \n",
    "    </td>\n",
    "</tr>\n",
    "</table>\n",
    "\n",
    "<br>\n",
    "<center>\n",
    "    <h1>Tarea 3: Programación orientada a objetos</h1>\n",
    "    <h2>Segunda clase</h2>\n",
    "</center>\n",
    "<br>\n",
    "\n",
    "Escriba una clase con las siguientes funcionalidades:\n",
    "* Al instanciar un objeto, lee un conjunto de datos numéricos. Por ejemplo puede usar el mismo conjunto de datos iris.csv. Instancie los datos en un dataframe de Pandas\n",
    "* Implemente un método que calcule las estadísticas descriptivas básicas de cada una de las variables.\n",
    "* Implemente un método que entregue los nombre de las variables disponibles.\n",
    "* Implemente un método que reciba el nombre de una variable disponible dentro del objeto ( en el  dataframe) y regrese: sus estadísticas básicas:  media, mediana, desviación, percentiles q25, q50, q75 y dibuje un histograma de la distribución de la variable."
   ]
  },
  {
   "cell_type": "code",
   "execution_count": 1,
   "id": "2b81be47",
   "metadata": {},
   "outputs": [],
   "source": [
    "class Estudiar_Datos: \n",
    "    \n",
    "    # Definir constructor\n",
    "    def __init__(self, path, col_names):\n",
    "        self.df = pd.read_csv(path, names = col_names)\n",
    "        self.fila_actual = 0\n",
    "        self.total_filas = len(self.df)\n",
    "        \n",
    "    def estadisticasDescriptivas(self):\n",
    "        for col in self.df.columns:\n",
    "            print(\"-----------------------\\nVariable: \" + col + \"\\n-----------------------\")\n",
    "            print(self.df[col].describe())\n",
    "    \n",
    "    def nombresColumnas(self):\n",
    "        print(\"Las columnas de este df son:\\n\")\n",
    "        for i in self.df.columns:\n",
    "            print(i)\n",
    "    \n",
    "    def describirVariable(self, variable):\n",
    "        print(\"-----------------------\\nVariable: \" + variable + \"\\n-----------------------\")\n",
    "        print(self.df[variable].describe())\n",
    "        self.df[variable].hist()\n",
    "            "
   ]
  },
  {
   "cell_type": "code",
   "execution_count": 2,
   "id": "a0ca7b45",
   "metadata": {},
   "outputs": [],
   "source": [
    "import pandas as pd\n",
    "\n",
    "# Link a los datos\n",
    "csv_url = 'https://archive.ics.uci.edu/ml/machine-learning-databases/iris/iris.data'\n",
    "\n",
    "# Nombres de las columnas\n",
    "columnas = ['Sepal_Length','Sepal_Width','Petal_Length','Petal_Width','Class']\n",
    "\n",
    "# Instanciar objeto\n",
    "datos = Estudiar_Datos(path = csv_url, col_names = columnas)"
   ]
  },
  {
   "cell_type": "code",
   "execution_count": 3,
   "id": "f9340b03",
   "metadata": {},
   "outputs": [
    {
     "name": "stdout",
     "output_type": "stream",
     "text": [
      "-----------------------\n",
      "Variable: Sepal_Length\n",
      "-----------------------\n",
      "count    150.000000\n",
      "mean       5.843333\n",
      "std        0.828066\n",
      "min        4.300000\n",
      "25%        5.100000\n",
      "50%        5.800000\n",
      "75%        6.400000\n",
      "max        7.900000\n",
      "Name: Sepal_Length, dtype: float64\n",
      "-----------------------\n",
      "Variable: Sepal_Width\n",
      "-----------------------\n",
      "count    150.000000\n",
      "mean       3.054000\n",
      "std        0.433594\n",
      "min        2.000000\n",
      "25%        2.800000\n",
      "50%        3.000000\n",
      "75%        3.300000\n",
      "max        4.400000\n",
      "Name: Sepal_Width, dtype: float64\n",
      "-----------------------\n",
      "Variable: Petal_Length\n",
      "-----------------------\n",
      "count    150.000000\n",
      "mean       3.758667\n",
      "std        1.764420\n",
      "min        1.000000\n",
      "25%        1.600000\n",
      "50%        4.350000\n",
      "75%        5.100000\n",
      "max        6.900000\n",
      "Name: Petal_Length, dtype: float64\n",
      "-----------------------\n",
      "Variable: Petal_Width\n",
      "-----------------------\n",
      "count    150.000000\n",
      "mean       1.198667\n",
      "std        0.763161\n",
      "min        0.100000\n",
      "25%        0.300000\n",
      "50%        1.300000\n",
      "75%        1.800000\n",
      "max        2.500000\n",
      "Name: Petal_Width, dtype: float64\n",
      "-----------------------\n",
      "Variable: Class\n",
      "-----------------------\n",
      "count             150\n",
      "unique              3\n",
      "top       Iris-setosa\n",
      "freq               50\n",
      "Name: Class, dtype: object\n"
     ]
    }
   ],
   "source": [
    "datos.estadisticasDescriptivas()"
   ]
  },
  {
   "cell_type": "code",
   "execution_count": 4,
   "id": "01cc5dcc",
   "metadata": {},
   "outputs": [
    {
     "name": "stdout",
     "output_type": "stream",
     "text": [
      "Las columnas de este df son:\n",
      "\n",
      "Sepal_Length\n",
      "Sepal_Width\n",
      "Petal_Length\n",
      "Petal_Width\n",
      "Class\n"
     ]
    }
   ],
   "source": [
    "datos.nombresColumnas()"
   ]
  },
  {
   "cell_type": "code",
   "execution_count": 5,
   "id": "1a4953f8",
   "metadata": {},
   "outputs": [
    {
     "name": "stdout",
     "output_type": "stream",
     "text": [
      "-----------------------\n",
      "Variable: Sepal_Length\n",
      "-----------------------\n",
      "count    150.000000\n",
      "mean       5.843333\n",
      "std        0.828066\n",
      "min        4.300000\n",
      "25%        5.100000\n",
      "50%        5.800000\n",
      "75%        6.400000\n",
      "max        7.900000\n",
      "Name: Sepal_Length, dtype: float64\n"
     ]
    },
    {
     "data": {
      "image/png": "[encoded data removed]",
      "text/plain": [
       "<Figure size 432x288 with 1 Axes>"
      ]
     },
     "metadata": {
      "needs_background": "light"
     },
     "output_type": "display_data"
    }
   ],
   "source": [
    "datos.describirVariable('Sepal_Length')"
   ]
  }
 ],
 "metadata": {
  "kernelspec": {
   "display_name": "Python 3 (ipykernel)",
   "language": "python",
   "name": "python3"
  },
  "language_info": {
   "codemirror_mode": {
    "name": "ipython",
    "version": 3
   },
   "file_extension": ".py",
   "mimetype": "text/x-python",
   "name": "python",
   "nbconvert_exporter": "python",
   "pygments_lexer": "ipython3",
   "version": "3.9.7"
  }
 },
 "nbformat": 4,
 "nbformat_minor": 5
}
